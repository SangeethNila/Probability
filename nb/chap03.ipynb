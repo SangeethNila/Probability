{
  "cells": [
    {
      "cell_type": "markdown",
      "metadata": {
        "id": "view-in-github",
        "colab_type": "text"
      },
      "source": [
        "<a href=\"https://colab.research.google.com/github/SangeethNila/Probability/blob/main/nb/chap03.ipynb\" target=\"_parent\"><img src=\"https://colab.research.google.com/assets/colab-badge.svg\" alt=\"Open In Colab\"/></a>"
      ]
    },
    {
      "cell_type": "markdown",
      "id": "418e407e",
      "metadata": {
        "id": "418e407e"
      },
      "source": [
        "The third edition of *Think Stats* is available now from [Bookshop.org](https://bookshop.org/a/98697/9781098190255) and [Amazon](https://amzn.to/42lmxwu) (those are affiliate links). If you are enjoying the free, online version, consider [buying me a coffee](https://buymeacoffee.com/allendowney)."
      ]
    },
    {
      "cell_type": "markdown",
      "id": "259c89bc",
      "metadata": {
        "id": "259c89bc"
      },
      "source": [
        "# Probability Mass Functions\n",
        "\n",
        "In the previous chapter we represented distributions using a `FreqTab` object, which contains a set of values and their frequencies -- that is, the number of times each value appears.\n",
        "In this chapter we'll introduce another way to describe a distribution, a probability mass function (PMF).\n",
        "\n",
        "To represent a PMF, we'll use an object called a `Pmf`, which contains a set of values and their probabilities.\n",
        "We'll use `Pmf` objects to compute the mean and variance of a distribution, and the skewness, which indicates whether it is skewed to the left or right.\n",
        "Finally, we will explore how a phenomenon called the \"inspection paradox\" can cause a sample to give a biased view of a distribution."
      ]
    },
    {
      "cell_type": "markdown",
      "id": "11b3a5ef",
      "metadata": {
        "tags": [],
        "id": "11b3a5ef"
      },
      "source": [
        "[Click here to run this notebook on Colab](https://colab.research.google.com/github/AllenDowney/ThinkStats/blob/v3/nb/chap03.ipynb)."
      ]
    },
    {
      "cell_type": "code",
      "execution_count": null,
      "id": "c4578587",
      "metadata": {
        "tags": [],
        "id": "c4578587"
      },
      "outputs": [],
      "source": [
        "from os.path import basename, exists\n",
        "\n",
        "\n",
        "def download(url):\n",
        "    filename = basename(url)\n",
        "    if not exists(filename):\n",
        "        from urllib.request import urlretrieve\n",
        "\n",
        "        local, _ = urlretrieve(url, filename)\n",
        "        print(\"Downloaded \" + local)\n",
        "\n",
        "\n",
        "download(\"https://github.com/AllenDowney/ThinkStats/raw/v3/nb/thinkstats.py\")"
      ]
    },
    {
      "cell_type": "code",
      "execution_count": null,
      "id": "f66668e0",
      "metadata": {
        "tags": [],
        "id": "f66668e0"
      },
      "outputs": [],
      "source": [
        "try:\n",
        "    import empiricaldist\n",
        "except ImportError:\n",
        "    %pip install empiricaldist"
      ]
    },
    {
      "cell_type": "code",
      "execution_count": null,
      "id": "e47f1afd",
      "metadata": {
        "tags": [],
        "id": "e47f1afd"
      },
      "outputs": [],
      "source": [
        "import numpy as np\n",
        "import pandas as pd\n",
        "import matplotlib.pyplot as plt\n",
        "\n",
        "from thinkstats import decorate"
      ]
    },
    {
      "cell_type": "markdown",
      "id": "5f56b6a7",
      "metadata": {
        "id": "5f56b6a7"
      },
      "source": [
        "## PMFs\n",
        "\n",
        "A `Pmf` object is like a `FreqTab` that contains probabilities instead of frequencies.\n",
        "So one way to make a `Pmf` is to start with a `FreqTab`.\n",
        "For example, here's a `FreqTab` that represents the distribution of values in a short sequence."
      ]
    },
    {
      "cell_type": "code",
      "execution_count": null,
      "id": "8f418fed",
      "metadata": {
        "id": "8f418fed"
      },
      "outputs": [],
      "source": [
        "from empiricaldist import FreqTab\n",
        "\n",
        "ftab = FreqTab.from_seq([1, 2, 2, 3, 5])\n",
        "ftab"
      ]
    },
    {
      "cell_type": "markdown",
      "id": "f70e8df4",
      "metadata": {
        "id": "f70e8df4"
      },
      "source": [
        "The sum of the frequencies is the size of the original sequence."
      ]
    },
    {
      "cell_type": "code",
      "execution_count": null,
      "id": "8e1ee1ca",
      "metadata": {
        "id": "8e1ee1ca"
      },
      "outputs": [],
      "source": [
        "n = ftab.sum()\n",
        "n"
      ]
    },
    {
      "cell_type": "markdown",
      "id": "eeed5af8",
      "metadata": {
        "id": "eeed5af8"
      },
      "source": [
        "If we divide the frequencies by `n`, they represent proportions, rather than counts."
      ]
    },
    {
      "cell_type": "code",
      "execution_count": null,
      "id": "07dab3d2",
      "metadata": {
        "id": "07dab3d2"
      },
      "outputs": [],
      "source": [
        "pmf = ftab / n\n",
        "pmf"
      ]
    },
    {
      "cell_type": "markdown",
      "id": "1e0a7d3c",
      "metadata": {
        "id": "1e0a7d3c"
      },
      "source": [
        "This result indicates that 20% of the values in the sequence are 1, 40% are 2, and so on.\n",
        "\n",
        "We can also think of these proportions as probabilities in the following sense: if we choose a random value from the original sequence, the probability we choose the value 1 is 0.2, the probability we choose the value 2 is 0.4, and so on.\n",
        "\n",
        "Because we divided through by `n`, the sum of the probabilities is 1, which means that this distribution is **normalized**."
      ]
    },
    {
      "cell_type": "code",
      "execution_count": null,
      "id": "af296dc9",
      "metadata": {
        "id": "af296dc9"
      },
      "outputs": [],
      "source": [
        "pmf.sum()"
      ]
    },
    {
      "cell_type": "markdown",
      "id": "c81d485a",
      "metadata": {
        "id": "c81d485a"
      },
      "source": [
        "A normalized `FreqTab` object represents a **probability mass function** (PMF), so-called because probabilities associated with discrete values are also called \"probability masses\".\n",
        "\n",
        "The `empiricaldist` library provides a `Pmf` object that represents a probability mass function, so instead of creating a `FreqTab` object and then normalizing it, we can create a `Pmf` object directly."
      ]
    },
    {
      "cell_type": "code",
      "execution_count": null,
      "id": "3fff30ec",
      "metadata": {
        "id": "3fff30ec"
      },
      "outputs": [],
      "source": [
        "from empiricaldist import Pmf\n",
        "\n",
        "pmf = Pmf.from_seq([1, 2, 2, 3, 5])\n",
        "pmf"
      ]
    },
    {
      "cell_type": "markdown",
      "id": "d8428fe8",
      "metadata": {
        "id": "d8428fe8"
      },
      "source": [
        "The `Pmf` is normalized so the total probability is 1."
      ]
    },
    {
      "cell_type": "code",
      "execution_count": null,
      "id": "5e01b656",
      "metadata": {
        "id": "5e01b656"
      },
      "outputs": [],
      "source": [
        "pmf.sum()"
      ]
    },
    {
      "cell_type": "markdown",
      "id": "4cc44f90",
      "metadata": {
        "id": "4cc44f90"
      },
      "source": [
        "`Pmf` and `FreqTab` objects are similar in many ways.\n",
        "To look up the probability associated with a value, we can use the bracket operator."
      ]
    },
    {
      "cell_type": "code",
      "execution_count": null,
      "id": "41280992",
      "metadata": {
        "id": "41280992"
      },
      "outputs": [],
      "source": [
        "pmf[2]"
      ]
    },
    {
      "cell_type": "markdown",
      "id": "ff05014f",
      "metadata": {
        "id": "ff05014f"
      },
      "source": [
        "Or use parentheses to call the `Pmf` like a function."
      ]
    },
    {
      "cell_type": "code",
      "execution_count": null,
      "id": "2ac2919b",
      "metadata": {
        "id": "2ac2919b"
      },
      "outputs": [],
      "source": [
        "pmf(2)"
      ]
    },
    {
      "cell_type": "markdown",
      "id": "98af6144",
      "metadata": {
        "id": "98af6144"
      },
      "source": [
        "To assign a probability to a value, you have to use the bracket operator."
      ]
    },
    {
      "cell_type": "code",
      "execution_count": null,
      "id": "b53f5742",
      "metadata": {
        "id": "b53f5742"
      },
      "outputs": [],
      "source": [
        "pmf[2] = 0.2\n",
        "pmf(2)"
      ]
    },
    {
      "cell_type": "markdown",
      "id": "69db5cfb",
      "metadata": {
        "id": "69db5cfb"
      },
      "source": [
        "You can modify an existing `Pmf` by incrementing the probability associated with a value:"
      ]
    },
    {
      "cell_type": "code",
      "execution_count": null,
      "id": "25ecc3b0",
      "metadata": {
        "id": "25ecc3b0"
      },
      "outputs": [],
      "source": [
        "pmf[2] += 0.3\n",
        "pmf[2]"
      ]
    },
    {
      "cell_type": "markdown",
      "id": "b4de74dd",
      "metadata": {
        "id": "b4de74dd"
      },
      "source": [
        "Or you can multiply a probability by a factor:"
      ]
    },
    {
      "cell_type": "code",
      "execution_count": null,
      "id": "df663bda",
      "metadata": {
        "id": "df663bda"
      },
      "outputs": [],
      "source": [
        "pmf[2] *= 0.5\n",
        "pmf[2]"
      ]
    },
    {
      "cell_type": "markdown",
      "id": "3abe8d9e",
      "metadata": {
        "id": "3abe8d9e"
      },
      "source": [
        "If you modify a `Pmf`, the result may not be normalized -- that is, the probabilities may no longer add up to 1."
      ]
    },
    {
      "cell_type": "code",
      "execution_count": null,
      "id": "864a09be",
      "metadata": {
        "id": "864a09be"
      },
      "outputs": [],
      "source": [
        "pmf.sum()"
      ]
    },
    {
      "cell_type": "markdown",
      "id": "bce848f1",
      "metadata": {
        "id": "bce848f1"
      },
      "source": [
        "The `normalize` method renormalizes the `Pmf` by dividing through by the sum -- and returning the sum."
      ]
    },
    {
      "cell_type": "code",
      "execution_count": null,
      "id": "a06845d8",
      "metadata": {
        "id": "a06845d8"
      },
      "outputs": [],
      "source": [
        "pmf.normalize()"
      ]
    },
    {
      "cell_type": "markdown",
      "id": "4ae297e6",
      "metadata": {
        "id": "4ae297e6"
      },
      "source": [
        "`Pmf` objects provide a `copy` method so you can make and modify a copy without affecting the original."
      ]
    },
    {
      "cell_type": "code",
      "execution_count": null,
      "id": "7738244e",
      "metadata": {
        "id": "7738244e"
      },
      "outputs": [],
      "source": [
        "pmf.copy()"
      ]
    },
    {
      "cell_type": "markdown",
      "id": "94f5f531",
      "metadata": {
        "id": "94f5f531"
      },
      "source": [
        "Like a `FreqTab` object, a `Pmf` object has a `qs` attribute that accesses the quantities and a `ps` attribute that accesses the probabilities.\n",
        "\n",
        "It also has a `bar` method that plots the `Pmf` as a bar graph and a `plot` method that plots it as a line graph."
      ]
    },
    {
      "cell_type": "markdown",
      "id": "3e77da45",
      "metadata": {
        "tags": [],
        "id": "3e77da45"
      },
      "source": [
        "(section_summarizing_pmfs)=\n",
        "## Summarizing a PMF\n",
        "\n",
        "In [Chapter 1](section_summary_statistics) we computed the mean of a sample by adding up the elements and dividing by the number of elements.\n",
        "Here's a simple example."
      ]
    },
    {
      "cell_type": "code",
      "execution_count": null,
      "id": "07579612",
      "metadata": {
        "id": "07579612"
      },
      "outputs": [],
      "source": [
        "seq = [1, 2, 2, 3, 5]\n",
        "\n",
        "n = len(seq)\n",
        "mean = np.sum(seq) / n\n",
        "mean"
      ]
    },
    {
      "cell_type": "markdown",
      "id": "7ca46b48",
      "metadata": {
        "id": "7ca46b48"
      },
      "source": [
        "Now suppose we compute the PMF of the values in the sequence."
      ]
    },
    {
      "cell_type": "code",
      "execution_count": null,
      "id": "fa1ca2c9",
      "metadata": {
        "id": "fa1ca2c9"
      },
      "outputs": [],
      "source": [
        "pmf = Pmf.from_seq(seq)"
      ]
    },
    {
      "cell_type": "markdown",
      "id": "ea4a034d",
      "metadata": {
        "id": "ea4a034d"
      },
      "source": [
        "Given the `Pmf`, we can still compute the mean, but the process is different -- we have to multiply the probabilities and quantities and add up the products."
      ]
    },
    {
      "cell_type": "code",
      "execution_count": null,
      "id": "f73de148",
      "metadata": {
        "id": "f73de148"
      },
      "outputs": [],
      "source": [
        "mean = np.sum(pmf.ps * pmf.qs)\n",
        "mean"
      ]
    },
    {
      "cell_type": "markdown",
      "id": "b7913b14",
      "metadata": {
        "id": "b7913b14"
      },
      "source": [
        "Notice that we *don't* have to divide by `n`, because we already did that when we normalized the `Pmf`.\n",
        "`Pmf` objects have a `mean` method that does the same thing."
      ]
    },
    {
      "cell_type": "code",
      "execution_count": null,
      "id": "b7a352d8",
      "metadata": {
        "id": "b7a352d8"
      },
      "outputs": [],
      "source": [
        "pmf.mean()"
      ]
    },
    {
      "cell_type": "markdown",
      "id": "444f74bd",
      "metadata": {
        "id": "444f74bd"
      },
      "source": [
        "Given a `Pmf`, we can compute the variance by computing the deviation of each quantity from the mean."
      ]
    },
    {
      "cell_type": "code",
      "execution_count": null,
      "id": "06ecd356",
      "metadata": {
        "id": "06ecd356"
      },
      "outputs": [],
      "source": [
        "deviations = pmf.qs - mean"
      ]
    },
    {
      "cell_type": "markdown",
      "id": "b4a01857",
      "metadata": {
        "id": "b4a01857"
      },
      "source": [
        "Then we multiply the squared deviations by the probabilities and add up the products."
      ]
    },
    {
      "cell_type": "code",
      "execution_count": null,
      "id": "bd600815",
      "metadata": {
        "id": "bd600815"
      },
      "outputs": [],
      "source": [
        "var = np.sum(pmf.ps * deviations**2)\n",
        "var"
      ]
    },
    {
      "cell_type": "markdown",
      "id": "f8a9a9b6",
      "metadata": {
        "id": "f8a9a9b6"
      },
      "source": [
        "The `var` method does the same thing."
      ]
    },
    {
      "cell_type": "code",
      "execution_count": null,
      "id": "a220d0e6",
      "metadata": {
        "id": "a220d0e6"
      },
      "outputs": [],
      "source": [
        "pmf.var()"
      ]
    },
    {
      "cell_type": "markdown",
      "id": "9a1c2c57",
      "metadata": {
        "id": "9a1c2c57"
      },
      "source": [
        "From the variance, we can compute the standard deviation in the usual way."
      ]
    },
    {
      "cell_type": "code",
      "execution_count": null,
      "id": "5e152cda",
      "metadata": {
        "id": "5e152cda"
      },
      "outputs": [],
      "source": [
        "np.sqrt(var)"
      ]
    },
    {
      "cell_type": "markdown",
      "id": "f2accd22",
      "metadata": {
        "id": "f2accd22"
      },
      "source": [
        "Or the `std` method does the same thing."
      ]
    },
    {
      "cell_type": "code",
      "execution_count": null,
      "id": "e7557612",
      "metadata": {
        "id": "e7557612"
      },
      "outputs": [],
      "source": [
        "pmf.std()"
      ]
    },
    {
      "cell_type": "markdown",
      "id": "6645531f",
      "metadata": {
        "id": "6645531f"
      },
      "source": [
        "`Pmf` also provides a `mode` method that finds the value with the highest probability."
      ]
    },
    {
      "cell_type": "code",
      "execution_count": null,
      "id": "19405109",
      "metadata": {
        "id": "19405109"
      },
      "outputs": [],
      "source": [
        "pmf.mode()"
      ]
    },
    {
      "cell_type": "markdown",
      "id": "e68a7efd",
      "metadata": {
        "id": "e68a7efd"
      },
      "source": [
        "We'll see more methods as we go along, but that's enough to get started."
      ]
    },
    {
      "cell_type": "markdown",
      "id": "51fc69ca",
      "metadata": {
        "id": "51fc69ca"
      },
      "source": [
        "## The Class Size Paradox\n",
        "\n",
        "As an example of what we can do with `Pmf` objects, let's consider a phenomenon I call \"the class size paradox.\"\n",
        "\n",
        "At many American colleges and universities, the student-to-faculty ratio is about 10:1.\n",
        "But students are often surprised that many of their classes have more than 10 students, sometimes a lot more. There are two reasons for the discrepancy:\n",
        "\n",
        "-   Students typically take 4 or 5 classes per semester, but professors often teach 1 or 2.\n",
        "\n",
        "-   The number of students in a small class is small, and the number of students in a large class is large.\n",
        "\n",
        "The first effect is obvious, at least once it is pointed out; the second is more subtle.\n",
        "Let's look at an example.\n",
        "Suppose that a college offers 65 classes in a given semester, and we are given the number of classes in each of the following size ranges."
      ]
    },
    {
      "cell_type": "code",
      "execution_count": null,
      "id": "36fa48bc",
      "metadata": {
        "id": "36fa48bc"
      },
      "outputs": [],
      "source": [
        "ranges = pd.interval_range(start=5, end=50, freq=5, closed=\"left\")\n",
        "ranges.name = \"class size\"\n",
        "\n",
        "data = pd.DataFrame(index=ranges)\n",
        "data[\"count\"] = [8, 8, 14, 4, 6, 12, 8, 3, 2]\n",
        "data"
      ]
    },
    {
      "cell_type": "markdown",
      "id": "2e43baa6",
      "metadata": {
        "id": "2e43baa6"
      },
      "source": [
        "The Pandas function `interval_range` makes an `Index` where each label represents a range of values.\n",
        "The notation `[5, 10)` means that `5` is included in the interval and `10` is not.\n",
        "Since we don't know the sizes of the classes in each interval, let's assume that all sizes are at the midpoint of the range."
      ]
    },
    {
      "cell_type": "code",
      "execution_count": null,
      "id": "36f208f9",
      "metadata": {
        "id": "36f208f9"
      },
      "outputs": [],
      "source": [
        "sizes = ranges.left + 2\n",
        "sizes"
      ]
    },
    {
      "cell_type": "markdown",
      "id": "7551d814",
      "metadata": {
        "id": "7551d814"
      },
      "source": [
        "Now let's make a `Pmf` that represents the distribution of class sizes.\n",
        "Because we know the sizes and their frequencies, we can create a `Pmf` directly, passing as arguments the counts, sizes, and a name.\n",
        "When we normalize the new `Pmf`, the result is the sum of the counts."
      ]
    },
    {
      "cell_type": "code",
      "execution_count": null,
      "id": "c1db28bc",
      "metadata": {
        "id": "c1db28bc"
      },
      "outputs": [],
      "source": [
        "counts = data[\"count\"]\n",
        "actual_pmf = Pmf(counts, sizes, name=\"actual\")\n",
        "actual_pmf.normalize()"
      ]
    },
    {
      "cell_type": "markdown",
      "id": "ca39aa3a",
      "metadata": {
        "id": "ca39aa3a"
      },
      "source": [
        "If you ask the college for the average class size, they report the mean of this distribution, which is 23.7."
      ]
    },
    {
      "cell_type": "code",
      "execution_count": null,
      "id": "6f8eb2c2",
      "metadata": {
        "id": "6f8eb2c2"
      },
      "outputs": [],
      "source": [
        "actual_pmf.mean()"
      ]
    },
    {
      "cell_type": "markdown",
      "id": "0d22bd69",
      "metadata": {
        "id": "0d22bd69"
      },
      "source": [
        "But if you survey a group of students, ask them how many students are in their classes, and compute the mean, the average is bigger.\n",
        "Let's see how much bigger.\n",
        "\n",
        "The following function takes the actual `Pmf` of class sizes and makes a new `Pmf` that represents the class sizes as seen by students.\n",
        "The quantities in the two distributions are the same, but the probabilities in the distribution are multiplied by the quantities, because in a class with size `x`, there are `x` students who observe that class.\n",
        "So the probability of observing a class is proportional to its size."
      ]
    },
    {
      "cell_type": "code",
      "execution_count": null,
      "id": "3cef6126",
      "metadata": {
        "id": "3cef6126"
      },
      "outputs": [],
      "source": [
        "def bias(pmf, name):\n",
        "    # multiply each probability by class size\n",
        "    ps = pmf.ps * pmf.qs\n",
        "\n",
        "    # make a new Pmf and normalize it\n",
        "    new_pmf = Pmf(ps, pmf.qs, name=name)\n",
        "    new_pmf.normalize()\n",
        "    return new_pmf"
      ]
    },
    {
      "cell_type": "markdown",
      "id": "f1449478",
      "metadata": {
        "id": "f1449478"
      },
      "source": [
        "Now we can compute the biased `Pmf` as observed by students."
      ]
    },
    {
      "cell_type": "code",
      "execution_count": null,
      "id": "6df3cccb",
      "metadata": {
        "id": "6df3cccb"
      },
      "outputs": [],
      "source": [
        "observed_pmf = bias(actual_pmf, name=\"observed\")"
      ]
    },
    {
      "cell_type": "markdown",
      "id": "e96df61b",
      "metadata": {
        "id": "e96df61b"
      },
      "source": [
        "Here's what the two distributions look like."
      ]
    },
    {
      "cell_type": "code",
      "execution_count": null,
      "id": "1c2b81d9",
      "metadata": {
        "id": "1c2b81d9"
      },
      "outputs": [],
      "source": [
        "from thinkstats import two_bar_plots\n",
        "\n",
        "two_bar_plots(actual_pmf, observed_pmf, width=2)\n",
        "decorate(xlabel=\"Class size\", ylabel=\"PMF\")"
      ]
    },
    {
      "cell_type": "markdown",
      "id": "2842ea59",
      "metadata": {
        "id": "2842ea59"
      },
      "source": [
        "In the observed distribution there are fewer small classes and more large ones.\n",
        "And the biased mean is 29.1, almost 25% higher than the actual mean."
      ]
    },
    {
      "cell_type": "code",
      "execution_count": null,
      "id": "61623eb5",
      "metadata": {
        "id": "61623eb5"
      },
      "outputs": [],
      "source": [
        "observed_pmf.mean()"
      ]
    },
    {
      "cell_type": "markdown",
      "id": "d6820e00",
      "metadata": {
        "id": "d6820e00"
      },
      "source": [
        "It is also possible to invert this operation.\n",
        "Suppose you want to find the distribution of class sizes at a college, but you can't get reliable data.\n",
        "One option is to choose a random sample of students and ask how many students are in their classes.\n",
        "\n",
        "The result would be biased for the reasons we've just seen, but you can use it to estimate the actual distribution.\n",
        "Here's the function that unbiases a `Pmf` by dividing the probabilities by the sizes."
      ]
    },
    {
      "cell_type": "code",
      "execution_count": null,
      "id": "4c52202b",
      "metadata": {
        "id": "4c52202b"
      },
      "outputs": [],
      "source": [
        "def unbias(pmf, name):\n",
        "    # divide each probability by class size\n",
        "    ps = pmf.ps / pmf.qs\n",
        "\n",
        "    new_pmf = Pmf(ps, pmf.qs, name=name)\n",
        "    new_pmf.normalize()\n",
        "    return new_pmf"
      ]
    },
    {
      "cell_type": "markdown",
      "id": "9728cc41",
      "metadata": {
        "id": "9728cc41"
      },
      "source": [
        "And here's the result."
      ]
    },
    {
      "cell_type": "code",
      "execution_count": null,
      "id": "e69c6e88",
      "metadata": {
        "id": "e69c6e88"
      },
      "outputs": [],
      "source": [
        "debiased_pmf = unbias(observed_pmf, \"debiased\")\n",
        "debiased_pmf.mean()"
      ]
    },
    {
      "cell_type": "markdown",
      "id": "d9b23744",
      "metadata": {
        "id": "d9b23744"
      },
      "source": [
        "The mean of the debiased `Pmf` is the same as the mean of the actual distribution we started with.\n",
        "\n",
        "If you think this example is interesting, you might like Chapter 2 of *Probably Overthinking It*, which includes this and several other examples of what's called the \"inspection paradox\"."
      ]
    },
    {
      "cell_type": "markdown",
      "id": "089ffa11",
      "metadata": {
        "id": "089ffa11"
      },
      "source": [
        "## NSFG Data\n",
        "\n",
        "In the previous chapter, we plotted frequency tables of pregnancy lengths for first babies and others.\n",
        "But the sizes of the groups are not the same, so we can't compare the frequency tables directly.\n",
        "Because PMFs are normalized, we can compare them.\n",
        "So let's load the NSFG data again and make `Pmf` objects to represent distributions of pregnancy lengths."
      ]
    },
    {
      "cell_type": "markdown",
      "id": "ead45565",
      "metadata": {
        "tags": [],
        "id": "ead45565"
      },
      "source": [
        "The following cells download the data files and install `statadict`, which we need to read the data."
      ]
    },
    {
      "cell_type": "code",
      "execution_count": null,
      "id": "31216ce5",
      "metadata": {
        "tags": [],
        "id": "31216ce5"
      },
      "outputs": [],
      "source": [
        "try:\n",
        "    import statadict\n",
        "except ImportError:\n",
        "    %pip install statadict"
      ]
    },
    {
      "cell_type": "code",
      "execution_count": null,
      "id": "7deaf238",
      "metadata": {
        "tags": [],
        "id": "7deaf238"
      },
      "outputs": [],
      "source": [
        "download(\"https://github.com/AllenDowney/ThinkStats/raw/v3/nb/nsfg.py\")\n",
        "download(\"https://github.com/AllenDowney/ThinkStats/raw/v3/data/2002FemPreg.dct\")\n",
        "download(\"https://github.com/AllenDowney/ThinkStats/raw/v3/data/2002FemPreg.dat.gz\")"
      ]
    },
    {
      "cell_type": "markdown",
      "id": "1b94e467",
      "metadata": {
        "id": "1b94e467"
      },
      "source": [
        "The `nsfg` module provides a `read_nsfg_groups` function that reads the data, selects rows that represent live births, and partitions live births into first babies and others.\n",
        "It returns three `DataFrame` objects."
      ]
    },
    {
      "cell_type": "code",
      "execution_count": null,
      "id": "4424061e",
      "metadata": {
        "id": "4424061e"
      },
      "outputs": [],
      "source": [
        "from nsfg import get_nsfg_groups\n",
        "\n",
        "live, firsts, others = get_nsfg_groups()"
      ]
    },
    {
      "cell_type": "markdown",
      "id": "db6ed39a",
      "metadata": {
        "id": "db6ed39a"
      },
      "source": [
        "We can use `firsts` and `others` to make a `Pmf` for the pregnancy lengths in each group."
      ]
    },
    {
      "cell_type": "code",
      "execution_count": null,
      "id": "900062cf",
      "metadata": {
        "id": "900062cf"
      },
      "outputs": [],
      "source": [
        "first_pmf = Pmf.from_seq(firsts[\"prglngth\"], name=\"firsts\")\n",
        "other_pmf = Pmf.from_seq(others[\"prglngth\"], name=\"others\")"
      ]
    },
    {
      "cell_type": "markdown",
      "id": "26d3185a",
      "metadata": {
        "id": "26d3185a"
      },
      "source": [
        "Here are the PMFs for first babies and others, plotted as bar graphs."
      ]
    },
    {
      "cell_type": "code",
      "execution_count": null,
      "id": "62c91cfa",
      "metadata": {
        "id": "62c91cfa"
      },
      "outputs": [],
      "source": [
        "two_bar_plots(first_pmf, other_pmf)\n",
        "decorate(xlabel=\"Weeks\", ylabel=\"Probability\", xlim=[20, 50])"
      ]
    },
    {
      "cell_type": "markdown",
      "id": "cc505018",
      "metadata": {
        "id": "cc505018"
      },
      "source": [
        "By plotting the PMF instead of the frequency table, we can compare the two distributions without being misled by the difference in sizes of the samples.\n",
        "Based on this figure, first babies seem to be less likely than others to arrive on time (week 39) and more likely to be late (weeks 41 and 42)."
      ]
    },
    {
      "cell_type": "markdown",
      "id": "8f2e5b2f",
      "metadata": {
        "id": "8f2e5b2f"
      },
      "source": [
        "## Other Visualizations\n",
        "\n",
        "FreqTabograms and PMFs are useful while you are exploring data and trying to identify patterns and relationships.\n",
        "Once you have an idea what is going on, a good next step is to design a visualization that makes the patterns you have identified as clear as possible.\n",
        "\n",
        "In the NSFG data, the biggest differences in the distributions are near the mode.\n",
        "So it makes sense to zoom in on that part of the graph, and select data from weeks 35 to 46.\n",
        "\n",
        "When we call a `Pmf` object like a function, we can look up a sequence of quantities and get a sequence of probabilities."
      ]
    },
    {
      "cell_type": "code",
      "execution_count": null,
      "id": "9f134fc5",
      "metadata": {
        "id": "9f134fc5"
      },
      "outputs": [],
      "source": [
        "weeks = range(35, 46)\n",
        "first_pmf(weeks)"
      ]
    },
    {
      "cell_type": "code",
      "execution_count": null,
      "id": "e185339f",
      "metadata": {
        "id": "e185339f"
      },
      "outputs": [],
      "source": [
        "other_pmf(weeks)"
      ]
    },
    {
      "cell_type": "markdown",
      "id": "332a7946",
      "metadata": {
        "id": "332a7946"
      },
      "source": [
        "So we can compute the differences in the probabilities like this."
      ]
    },
    {
      "cell_type": "code",
      "execution_count": null,
      "id": "36d0ba81",
      "metadata": {
        "id": "36d0ba81"
      },
      "outputs": [],
      "source": [
        "diffs = first_pmf(weeks) - other_pmf(weeks)\n",
        "diffs"
      ]
    },
    {
      "cell_type": "markdown",
      "id": "cdad3427",
      "metadata": {
        "id": "cdad3427"
      },
      "source": [
        "Here's what they look like, multiplied by 100 to express the differences in percentage points."
      ]
    },
    {
      "cell_type": "code",
      "execution_count": null,
      "id": "3f40b276",
      "metadata": {
        "id": "3f40b276"
      },
      "outputs": [],
      "source": [
        "plt.bar(weeks, diffs * 100)\n",
        "decorate(xlabel=\"Weeks\", ylabel=\"Difference (percentage points)\")"
      ]
    },
    {
      "cell_type": "markdown",
      "id": "11615bb9",
      "metadata": {
        "id": "11615bb9"
      },
      "source": [
        "This figure makes the pattern clearer: first babies are less likely to be born in week 39, and somewhat more likely to be born in weeks 41 and 42.\n",
        "\n",
        "When we see a pattern like this in a sample, we can't be sure it also holds in the population -- and we don't know whether we would see it in another sample from the same population.\n",
        "We'll revisit this question in [Chapter 9](chapter_hypothesis_testing)."
      ]
    },
    {
      "cell_type": "markdown",
      "id": "93d2684e",
      "metadata": {
        "id": "93d2684e"
      },
      "source": [
        "## Glossary\n",
        "\n",
        "There are not as many new terms in this chapter as in the previous chapters.\n",
        "\n",
        "-   **normalized:** A set of probabilities are normalized if they add up to 1.\n",
        "\n",
        "-   **probability mass function (PMF)**: A function that represents a distribution by mapping each quantity to its probability."
      ]
    },
    {
      "cell_type": "markdown",
      "id": "e818cde9",
      "metadata": {
        "collapsed": true,
        "id": "e818cde9"
      },
      "source": [
        "## Exercises\n",
        "\n",
        "For the exercises in this chapter, we'll use the NSFG respondent file, which contains one row for each respondent.\n",
        "Instructions for downloading the data are in the notebook for this chapter."
      ]
    },
    {
      "cell_type": "code",
      "execution_count": null,
      "id": "461a9ed7",
      "metadata": {
        "tags": [],
        "id": "461a9ed7"
      },
      "outputs": [],
      "source": [
        "download(\"https://github.com/AllenDowney/ThinkStats/raw/v3/data/2002FemResp.dct\")\n",
        "download(\"https://github.com/AllenDowney/ThinkStats/raw/v3/data/2002FemResp.dat.gz\")"
      ]
    },
    {
      "cell_type": "markdown",
      "id": "7c7ce2b7",
      "metadata": {
        "tags": [],
        "id": "7c7ce2b7"
      },
      "source": [
        "The codebook for this dataset is at <https://ftp.cdc.gov/pub/Health_Statistics/NCHS/Dataset_Documentation/NSFG/Cycle6Codebook-Female.pdf>."
      ]
    },
    {
      "cell_type": "markdown",
      "id": "1b40d801",
      "metadata": {
        "id": "1b40d801"
      },
      "source": [
        "The `nsfg.py` module provides a function that reads the respondent file and returns a `DataFrame`."
      ]
    },
    {
      "cell_type": "code",
      "execution_count": null,
      "id": "861e38b1",
      "metadata": {
        "id": "861e38b1"
      },
      "outputs": [],
      "source": [
        "from nsfg import read_fem_resp\n",
        "\n",
        "resp = read_fem_resp()\n",
        "resp.shape"
      ]
    },
    {
      "cell_type": "markdown",
      "id": "5495601a",
      "metadata": {
        "id": "5495601a"
      },
      "source": [
        "This `DataFrame` contains 7643 rows and 3092 columns."
      ]
    },
    {
      "cell_type": "markdown",
      "id": "8e509710",
      "metadata": {
        "id": "8e509710"
      },
      "source": [
        "### Exercise 3.1\n",
        "\n",
        "Select the column `numbabes`, which records the \"number of babies born alive\" to each respondent.\n",
        "Make a `FreqTab` object and display the frequencies of the values in this column.\n",
        "Check that they are consistent with the frequencies in the code book.\n",
        "Are there any special values that should be replaced with `NaN`?\n",
        "\n",
        "Then make a `Pmf` object and plot it as a bar graph. Is the distribution symmetric, skewed to the left, or skewed to the right?"
      ]
    },
    {
      "cell_type": "code",
      "execution_count": null,
      "id": "e4933509",
      "metadata": {
        "id": "e4933509"
      },
      "outputs": [],
      "source": [
        "# Solution goes here"
      ]
    },
    {
      "cell_type": "code",
      "execution_count": null,
      "id": "92d10a12",
      "metadata": {
        "id": "92d10a12"
      },
      "outputs": [],
      "source": [
        "# Solution goes here"
      ]
    },
    {
      "cell_type": "code",
      "execution_count": null,
      "id": "9f96f3d4",
      "metadata": {
        "id": "9f96f3d4"
      },
      "outputs": [],
      "source": [
        "pmf.bar()\n",
        "decorate(xlabel=\"Number of babies\", ylabel=\"PMF\")"
      ]
    },
    {
      "cell_type": "code",
      "execution_count": null,
      "id": "64937b8c",
      "metadata": {
        "id": "64937b8c"
      },
      "outputs": [],
      "source": [
        "# Solution goes here"
      ]
    },
    {
      "cell_type": "markdown",
      "id": "071ae7e7",
      "metadata": {
        "id": "071ae7e7"
      },
      "source": [
        "### Exercise 3.2\n",
        "\n",
        "In the same way that the mean identifies a central point in a distribution, and variance quantifies its spread, there is another statistic, called **skewness**, that indicates whether a distribution is skewed to the left or right.\n",
        "\n",
        "Given a sample, we can compute the skewness by computing the sum of the cubed deviations and dividing by the standard deviation cubed.\n",
        "For example, here's how we compute the skewness of `numbabes`.\n"
      ]
    },
    {
      "cell_type": "code",
      "execution_count": null,
      "id": "f67d55f5",
      "metadata": {
        "id": "f67d55f5"
      },
      "outputs": [],
      "source": [
        "numbabes = resp[\"numbabes\"].replace(97, np.nan)"
      ]
    },
    {
      "cell_type": "code",
      "execution_count": null,
      "id": "7e1b1e04",
      "metadata": {
        "id": "7e1b1e04"
      },
      "outputs": [],
      "source": [
        "deviations = numbabes - numbabes.mean()\n",
        "skewness = np.mean(deviations**3) / numbabes.std(ddof=0) ** 3\n",
        "skewness"
      ]
    },
    {
      "cell_type": "markdown",
      "id": "79f68b36",
      "metadata": {
        "id": "79f68b36"
      },
      "source": [
        "A positive value indicates that a distribution is skewed to the right, and a negative value indicates that it is skewed to the left.\n",
        "\n",
        "If you are given a `Pmf`, rather than a sequence of values, you can compute skewness like this:\n",
        "\n",
        "1. Compute the deviation of each quantity in the `Pmf` from the mean.\n",
        "\n",
        "2. Cube the deviations, multiply by the probabilities in the `Pmf`, and add up the products.\n",
        "\n",
        "3. Divide the sum by the standard deviation cubed.\n",
        "\n",
        "Write a function called `pmf_skewness` that takes a `Pmf` object and returns its skewness."
      ]
    },
    {
      "cell_type": "code",
      "execution_count": null,
      "id": "95e9d102",
      "metadata": {
        "id": "95e9d102"
      },
      "outputs": [],
      "source": [
        "# Solution goes here"
      ]
    },
    {
      "cell_type": "markdown",
      "id": "bbd5e64f",
      "metadata": {
        "id": "bbd5e64f"
      },
      "source": [
        "Use your function and the `Pmf` of `numbabes` to compute skewness, and confirm you get the same result we computed above."
      ]
    },
    {
      "cell_type": "code",
      "execution_count": null,
      "id": "4e442b4b",
      "metadata": {
        "id": "4e442b4b"
      },
      "outputs": [],
      "source": [
        "# Solution goes here"
      ]
    },
    {
      "cell_type": "markdown",
      "id": "81e26051",
      "metadata": {
        "id": "81e26051"
      },
      "source": [
        "### Exercise 3.3\n",
        "\n",
        "Something like the class size paradox appears if you survey children and ask how many children are in their family.\n",
        "Families with many children are more likely to appear in your sample, and families with no children have no chance to be in the sample at all.\n",
        "\n",
        "From `resp`, select `numkdhh`, which records the number of children under 18 in each respondent's household.\n",
        "Make a `Pmf` of the values in this column.\n",
        "\n",
        "Use the `bias` function to compute the distribution we would see if we surveyed the children and asked them how many children under 18 (including themselves) are in their household.\n",
        "\n",
        "Plot the actual and biased distributions, and compute their means."
      ]
    },
    {
      "cell_type": "code",
      "execution_count": null,
      "id": "8a263d8e",
      "metadata": {
        "id": "8a263d8e"
      },
      "outputs": [],
      "source": [
        "# Solution goes here"
      ]
    },
    {
      "cell_type": "code",
      "execution_count": null,
      "id": "019396ef",
      "metadata": {
        "id": "019396ef"
      },
      "outputs": [],
      "source": [
        "# Solution goes here"
      ]
    },
    {
      "cell_type": "code",
      "execution_count": null,
      "id": "064c0161",
      "metadata": {
        "id": "064c0161"
      },
      "outputs": [],
      "source": [
        "# Solution goes here"
      ]
    },
    {
      "cell_type": "code",
      "execution_count": null,
      "id": "e0c4082f",
      "metadata": {
        "id": "e0c4082f"
      },
      "outputs": [],
      "source": [
        "# Solution goes here"
      ]
    },
    {
      "cell_type": "markdown",
      "id": "e27da3a4",
      "metadata": {
        "tags": [],
        "id": "e27da3a4"
      },
      "source": [
        "[Think Stats: Exploratory Data Analysis in Python, 3rd Edition](https://allendowney.github.io/ThinkStats/index.html)\n",
        "\n",
        "Copyright 2024 [Allen B. Downey](https://allendowney.com)\n",
        "\n",
        "Code license: [MIT License](https://mit-license.org/)\n",
        "\n",
        "Text license: [Creative Commons Attribution-NonCommercial-ShareAlike 4.0 International](https://creativecommons.org/licenses/by-nc-sa/4.0/)"
      ]
    }
  ],
  "metadata": {
    "celltoolbar": "Tags",
    "kernelspec": {
      "display_name": "Python 3 (ipykernel)",
      "language": "python",
      "name": "python3"
    },
    "language_info": {
      "codemirror_mode": {
        "name": "ipython",
        "version": 3
      },
      "file_extension": ".py",
      "mimetype": "text/x-python",
      "name": "python",
      "nbconvert_exporter": "python",
      "pygments_lexer": "ipython3",
      "version": "3.11.0"
    },
    "colab": {
      "provenance": [],
      "include_colab_link": true
    }
  },
  "nbformat": 4,
  "nbformat_minor": 5
}